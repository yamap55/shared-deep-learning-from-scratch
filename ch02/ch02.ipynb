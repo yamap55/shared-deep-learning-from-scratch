{
 "metadata": {
  "language_info": {
   "codemirror_mode": {
    "name": "ipython",
    "version": 3
   },
   "file_extension": ".py",
   "mimetype": "text/x-python",
   "name": "python",
   "nbconvert_exporter": "python",
   "pygments_lexer": "ipython3",
   "version": 3
  },
  "orig_nbformat": 2,
  "kernelspec": {
   "name": "python_defaultSpec_1595920412697",
   "display_name": "Python 3.7.8 64-bit"
  }
 },
 "nbformat": 4,
 "nbformat_minor": 2,
 "cells": [
  {
   "cell_type": "code",
   "execution_count": 9,
   "metadata": {},
   "outputs": [],
   "source": [
    "import numpy as np"
   ]
  },
  {
   "cell_type": "code",
   "execution_count": 11,
   "metadata": {},
   "outputs": [],
   "source": [
    "def AND(x1, x2):\n",
    "    w1, w2, b = 0.5, 0.5, -0.7\n",
    "    x = np.array([x1, x2])\n",
    "    w = np.array([w1, w2])\n",
    "    if np.sum(w * x) + b <= 0:\n",
    "        return 0\n",
    "    return 1\n",
    "\n",
    "assert AND(0, 0) == 0\n",
    "assert AND(1, 0) == 0\n",
    "assert AND(0, 1) == 0\n",
    "assert AND(1, 1) == 1\n"
   ]
  },
  {
   "cell_type": "code",
   "execution_count": 15,
   "metadata": {},
   "outputs": [],
   "source": [
    "def NAND(x1, x2):\n",
    "    w1, w2, b = -0.5, -0.5, 0.7\n",
    "    x = np.array([x1, x2])\n",
    "    w = np.array([w1, w2])\n",
    "    if np.sum(w * x) + b <= 0:\n",
    "        return 0\n",
    "    return 1\n",
    "\n",
    "assert NAND(0, 0) == 1\n",
    "assert NAND(1, 0) == 1\n",
    "assert NAND(0, 1) == 1\n",
    "assert NAND(1, 1) == 0\n"
   ]
  },
  {
   "cell_type": "code",
   "execution_count": 17,
   "metadata": {},
   "outputs": [],
   "source": [
    "def OR(x1, x2):\n",
    "    w1, w2, b = 0.5, 0.5, -0.2\n",
    "    x = np.array([x1, x2])\n",
    "    w = np.array([w1, w2])\n",
    "    if np.sum(w * x) + b <= 0:\n",
    "        return 0\n",
    "    return 1\n",
    "\n",
    "assert OR(0, 0) == 0\n",
    "assert OR(1, 0) == 1\n",
    "assert OR(0, 1) == 1\n",
    "assert OR(1, 1) == 1\n"
   ]
  },
  {
   "cell_type": "code",
   "execution_count": 19,
   "metadata": {},
   "outputs": [],
   "source": [
    "def XOR(x1, x2):\n",
    "    return AND(NAND(x1, x2), OR(x1, x2))\n",
    "\n",
    "assert XOR(0, 0) == 0\n",
    "assert XOR(1, 0) == 1\n",
    "assert XOR(0, 1) == 1\n",
    "assert XOR(1, 1) == 0\n"
   ]
  }
 ]
}