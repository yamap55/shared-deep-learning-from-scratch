{
 "metadata": {
  "language_info": {
   "codemirror_mode": {
    "name": "ipython",
    "version": 3
   },
   "file_extension": ".py",
   "mimetype": "text/x-python",
   "name": "python",
   "nbconvert_exporter": "python",
   "pygments_lexer": "ipython3",
   "version": 3
  },
  "orig_nbformat": 2,
  "kernelspec": {
   "name": "python_defaultSpec_1596979087323",
   "display_name": "Python 3.7.8 64-bit"
  }
 },
 "nbformat": 4,
 "nbformat_minor": 2,
 "cells": [
  {
   "cell_type": "code",
   "execution_count": 1,
   "metadata": {},
   "outputs": [],
   "source": [
    "import numpy as np\n",
    "from numpy.testing import assert_allclose"
   ]
  },
  {
   "cell_type": "code",
   "execution_count": 2,
   "metadata": {},
   "outputs": [],
   "source": [
    "# 3.2.4 シグモイド関数の実装\n",
    "def sigmoid(x):\n",
    "    return 1 / (1 + np.exp(-x))"
   ]
  },
  {
   "cell_type": "code",
   "execution_count": 11,
   "metadata": {
    "tags": []
   },
   "outputs": [],
   "source": [
    "# 3.4.2 各層における信号伝達の実装\n",
    "# 第1層目\n",
    "X = np.array([1.0, 0.5])\n",
    "W1 = np.array([[0.1, 0.3, 0.5], [0.2, 0.4, 0.6]])\n",
    "B1 = np.array([0.1, 0.2, 0.3])\n",
    "\n",
    "assert W1.shape ==(2, 3)\n",
    "assert X.shape ==(2,)\n",
    "assert B1.shape ==(3,)\n",
    "\n",
    "A1 = np.dot(X, W1) + B1\n",
    "assert_allclose(A1, np.array([0.3, 0.7, 1.1]))\n",
    "\n",
    "Z1 = sigmoid(A1)\n",
    "assert_allclose(Z1, np.array([0.57444252, 0.66818777, 0.75026011]))\n"
   ]
  },
  {
   "cell_type": "code",
   "execution_count": 16,
   "metadata": {},
   "outputs": [],
   "source": [
    "# 第2層目\n",
    "W2 = np.array([[0.1, 0.4], [0.2, 0.5], [0.3, 0.6]])\n",
    "B2 = np.array([0.1, 0.2])\n",
    "\n",
    "assert Z1.shape ==(3,)\n",
    "assert W2.shape ==(3, 2)\n",
    "assert B2.shape ==(2,)\n",
    "\n",
    "A2 = np.dot(Z1, W2) + B2\n",
    "Z2 = sigmoid(A2)\n",
    "\n",
    "assert_allclose(A2, np.array([0.51615984, 1.21402696]))\n",
    "assert_allclose(Z2, np.array([0.62624937, 0.7710107]))\n"
   ]
  },
  {
   "cell_type": "code",
   "execution_count": 21,
   "metadata": {},
   "outputs": [],
   "source": [
    "# 出力層\n",
    "def identity_function(x):\n",
    "    return x\n",
    "\n",
    "W3 = np.array([[0.1, 0.3], [0.2, 0.4]])\n",
    "B3 = np.array([0.1, 0.2])\n",
    "\n",
    "A3 = np.dot(Z2, W3) + B3\n",
    "Y = identity_function(A3)\n",
    "\n",
    "assert_allclose(A3, np.array([0.31682708, 0.69627909]))\n",
    "assert_allclose(Y, np.array([0.31682708, 0.69627909]))\n"
   ]
  },
  {
   "cell_type": "code",
   "execution_count": 30,
   "metadata": {},
   "outputs": [],
   "source": [
    "# 3.4.3　実装のまとめ\n",
    "def init_network():\n",
    "    network = {\n",
    "        'W1' : np.array([[0.1, 0.3, 0.5], [0.2, 0.4, 0.6]]),\n",
    "        'b1' : np.array([0.1, 0.2, 0.3]),\n",
    "        'W2' : np.array([[0.1, 0.4], [0.2, 0.5], [0.3, 0.6]]),\n",
    "        'b2' : np.array([0.1, 0.2]),\n",
    "        'W3' : np.array([[0.1, 0.3], [0.2, 0.4]]),\n",
    "        'b3' : np.array([0.1, 0.2]),\n",
    "    }\n",
    "    return network\n",
    "\n",
    "def forward(network, x):\n",
    "    W1, W2, W3, = network['W1'], network['W2'], network['W3']\n",
    "    b1, b2, b3, = network['b1'], network['b2'], network['b3']\n",
    "\n",
    "    a1 = np.dot(x, W1) + b1\n",
    "    z1 = sigmoid(a1)\n",
    "    a2 = np.dot(z1, W2) + b2\n",
    "    z2 = sigmoid(a2)\n",
    "    a3 = np.dot(z2, W3) + b3\n",
    "    y = identity_function(a3)\n",
    "    return y\n",
    "\n",
    "network = init_network()\n",
    "x = np.array([1.0, 0.5])\n",
    "y = forward(network, x)\n",
    "\n",
    "assert_allclose(y, np.array([0.31682708, 0.69627909]))\n"
   ]
  },
  {
   "cell_type": "code",
   "execution_count": 44,
   "metadata": {
    "tags": []
   },
   "outputs": [],
   "source": [
    "# 3.5.1 恒等関数とソフトマックス関数\n",
    "a = np.array([0.3, 2.9, 4.0])\n",
    "exp_a = np.exp(a) # 指数関数\n",
    "assert_allclose(exp_a, np.array([1.34985881, 18.17414537, 54.59815003]))\n",
    "\n",
    "sum_exp_a = np.sum(exp_a) # 指数関数の和\n",
    "assert sum_exp_a == 74.1221542101633\n",
    "\n",
    "y = exp_a / sum_exp_a\n",
    "assert_allclose(y, np.array([0.018211273295547534, 0.2451918129350739, 0.7365969137693785]))\n"
   ]
  },
  {
   "cell_type": "code",
   "execution_count": 45,
   "metadata": {},
   "outputs": [],
   "source": [
    "def softmax(a):\n",
    "    exp_a = np.exp(a)\n",
    "    sum_exp_a = np.sum(exp_a)\n",
    "    y = exp_a / sum_exp_a\n",
    "    return y"
   ]
  },
  {
   "cell_type": "code",
   "execution_count": 49,
   "metadata": {},
   "outputs": [],
   "source": [
    "# 3.5.2 ソフトマックス関数の実装上の注意\n",
    "# 大きすぎる値になるためnp.nanが返ってくる\n",
    "assert_allclose(softmax(np.array([1010, 1000, 990])), np.array([np.nan, np.nan, np.nan]))\n"
   ]
  },
  {
   "cell_type": "code",
   "execution_count": 54,
   "metadata": {},
   "outputs": [],
   "source": [
    "def softmax(a):\n",
    "    c = np.max(a)\n",
    "    exp_a = np.exp(a - c)\n",
    "    sum_exp_a = np.sum(exp_a)\n",
    "    y = exp_a / sum_exp_a\n",
    "    return y\n",
    "# 入寮信号の最大値を引くことで正しく計算ができている\n",
    "assert_allclose(softmax(np.array([1010, 1000, 990])), np.array([9.99954600e-01, 4.53978686e-05, 2.06106005e-09]))"
   ]
  },
  {
   "cell_type": "code",
   "execution_count": 59,
   "metadata": {
    "tags": []
   },
   "outputs": [],
   "source": [
    "# ソフトマックス関数の特徴\n",
    "y = softmax(np.array([0.3, 2.9, 4.0]))\n",
    "assert_allclose(y, np.array([0.01821127329554753, 0.24519181293507392, 0.7365969137693786]))\n",
    "\n",
    "# 総和が1になるため、出力を確率と解釈可能\n",
    "assert np.sum(y) == 1.0\n"
   ]
  }
 ]
}